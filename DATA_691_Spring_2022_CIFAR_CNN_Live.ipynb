{
  "nbformat": 4,
  "nbformat_minor": 0,
  "metadata": {
    "colab": {
      "name": "DATA 691 Spring 2022 -- CIFAR CNN -- Live.ipynb",
      "provenance": [],
      "include_colab_link": true
    },
    "kernelspec": {
      "name": "python3",
      "display_name": "Python 3"
    },
    "language_info": {
      "name": "python"
    },
    "accelerator": "GPU"
  },
  "cells": [
    {
      "cell_type": "markdown",
      "metadata": {
        "id": "view-in-github",
        "colab_type": "text"
      },
      "source": [
        "<a href=\"https://colab.research.google.com/github/ellabam/learning-java/blob/master/DATA_691_Spring_2022_CIFAR_CNN_Live.ipynb\" target=\"_parent\"><img src=\"https://colab.research.google.com/assets/colab-badge.svg\" alt=\"Open In Colab\"/></a>"
      ]
    },
    {
      "cell_type": "code",
      "execution_count": null,
      "metadata": {
        "id": "Sny2STXGnH1v"
      },
      "outputs": [],
      "source": [
        "import numpy as np\n",
        "import tensorflow as tf\n",
        "import tensorflow.keras as keras\n",
        "from tensorflow.keras.models import Sequential\n",
        "from tensorflow.keras.layers import Input, Flatten, Dense, Dropout, Conv2D, MaxPooling2D\n",
        "from matplotlib import pyplot as plt"
      ]
    },
    {
      "cell_type": "code",
      "source": [
        "(x_tr, y_tr), (x_te, y_te) = keras.datasets.cifar10.load_data()\n",
        "x_tr = x_tr/255\n",
        "x_te = x_te/255"
      ],
      "metadata": {
        "colab": {
          "base_uri": "https://localhost:8080/"
        },
        "id": "1pOfAr4WLQJO",
        "outputId": "a69435ca-11e9-418a-d202-80020278488b"
      },
      "execution_count": null,
      "outputs": [
        {
          "output_type": "stream",
          "name": "stdout",
          "text": [
            "Downloading data from https://www.cs.toronto.edu/~kriz/cifar-10-python.tar.gz\n",
            "170500096/170498071 [==============================] - 2s 0us/step\n",
            "170508288/170498071 [==============================] - 2s 0us/step\n"
          ]
        }
      ]
    },
    {
      "cell_type": "code",
      "source": [
        "model = Sequential([\n",
        "    Input((32, 32, 3)),\n",
        "    Conv2D(32, 3, activation=\"relu\"),\n",
        "    MaxPooling2D(),\n",
        "    Conv2D(64, 3, activation=\"relu\"),\n",
        "    MaxPooling2D(),\n",
        "    Conv2D(64, 3, activation=\"relu\"),\n",
        "    Flatten(),\n",
        "    Dense(64, activation=\"relu\"),\n",
        "    Dense(10, activation=\"softmax\")\n",
        "])\n",
        "\n",
        "model.summary()\n",
        "\n",
        "model.compile(\n",
        "    loss=\"sparse_categorical_crossentropy\",\n",
        "    optimizer=\"adam\",\n",
        "    metrics=[\"accuracy\"])\n",
        "\n",
        "model.fit(x_tr, y_tr, validation_data=(x_te, y_te), batch_size=512, epochs=50)"
      ],
      "metadata": {
        "colab": {
          "base_uri": "https://localhost:8080/"
        },
        "id": "FzKAZSCHLDlm",
        "outputId": "3221b160-001d-4c9b-ccd2-d957d17ab578"
      },
      "execution_count": null,
      "outputs": [
        {
          "metadata": {
            "tags": null
          },
          "name": "stdout",
          "output_type": "stream",
          "text": [
            "Model: \"sequential_1\"\n",
            "_________________________________________________________________\n",
            " Layer (type)                Output Shape              Param #   \n",
            "=================================================================\n",
            " conv2d_3 (Conv2D)           (None, 30, 30, 32)        896       \n",
            "                                                                 \n",
            " max_pooling2d_2 (MaxPooling  (None, 15, 15, 32)       0         \n",
            " 2D)                                                             \n",
            "                                                                 \n",
            " conv2d_4 (Conv2D)           (None, 13, 13, 64)        18496     \n",
            "                                                                 \n",
            " max_pooling2d_3 (MaxPooling  (None, 6, 6, 64)         0         \n",
            " 2D)                                                             \n",
            "                                                                 \n",
            " conv2d_5 (Conv2D)           (None, 4, 4, 64)          36928     \n",
            "                                                                 \n",
            " flatten_1 (Flatten)         (None, 1024)              0         \n",
            "                                                                 \n",
            " dense_2 (Dense)             (None, 64)                65600     \n",
            "                                                                 \n",
            " dense_3 (Dense)             (None, 10)                650       \n",
            "                                                                 \n",
            "=================================================================\n",
            "Total params: 122,570\n",
            "Trainable params: 122,570\n",
            "Non-trainable params: 0\n",
            "_________________________________________________________________\n",
            "Epoch 1/50\n",
            "98/98 [==============================] - 13s 22ms/step - loss: 1.8737 - accuracy: 0.3116 - val_loss: 1.6714 - val_accuracy: 0.3884\n",
            "Epoch 2/50\n",
            "98/98 [==============================] - 2s 16ms/step - loss: 1.5109 - accuracy: 0.4518 - val_loss: 1.4392 - val_accuracy: 0.4775\n",
            "Epoch 3/50\n",
            "98/98 [==============================] - 2s 16ms/step - loss: 1.3728 - accuracy: 0.5069 - val_loss: 1.3647 - val_accuracy: 0.5153\n",
            "Epoch 4/50\n",
            "98/98 [==============================] - 2s 16ms/step - loss: 1.2920 - accuracy: 0.5397 - val_loss: 1.2746 - val_accuracy: 0.5448\n",
            "Epoch 5/50\n",
            "98/98 [==============================] - 2s 17ms/step - loss: 1.2395 - accuracy: 0.5593 - val_loss: 1.2237 - val_accuracy: 0.5612\n",
            "Epoch 6/50\n",
            "98/98 [==============================] - 2s 16ms/step - loss: 1.1792 - accuracy: 0.5865 - val_loss: 1.1741 - val_accuracy: 0.5833\n",
            "Epoch 7/50\n",
            "98/98 [==============================] - 2s 16ms/step - loss: 1.1495 - accuracy: 0.5976 - val_loss: 1.1767 - val_accuracy: 0.5803\n",
            "Epoch 8/50\n",
            "98/98 [==============================] - 2s 16ms/step - loss: 1.1022 - accuracy: 0.6139 - val_loss: 1.1303 - val_accuracy: 0.6048\n",
            "Epoch 9/50\n",
            "98/98 [==============================] - 2s 16ms/step - loss: 1.0711 - accuracy: 0.6258 - val_loss: 1.0940 - val_accuracy: 0.6207\n",
            "Epoch 10/50\n",
            "98/98 [==============================] - 2s 16ms/step - loss: 1.0446 - accuracy: 0.6338 - val_loss: 1.0547 - val_accuracy: 0.6302\n",
            "Epoch 11/50\n",
            "98/98 [==============================] - 2s 16ms/step - loss: 1.0058 - accuracy: 0.6498 - val_loss: 1.0430 - val_accuracy: 0.6363\n",
            "Epoch 12/50\n",
            "98/98 [==============================] - 2s 16ms/step - loss: 0.9718 - accuracy: 0.6612 - val_loss: 1.0276 - val_accuracy: 0.6433\n",
            "Epoch 13/50\n",
            "98/98 [==============================] - 2s 16ms/step - loss: 0.9557 - accuracy: 0.6672 - val_loss: 1.0030 - val_accuracy: 0.6514\n",
            "Epoch 14/50\n",
            "98/98 [==============================] - 2s 16ms/step - loss: 0.9351 - accuracy: 0.6755 - val_loss: 1.0529 - val_accuracy: 0.6329\n",
            "Epoch 15/50\n",
            "98/98 [==============================] - 2s 16ms/step - loss: 0.9040 - accuracy: 0.6866 - val_loss: 0.9768 - val_accuracy: 0.6568\n",
            "Epoch 16/50\n",
            "98/98 [==============================] - 2s 16ms/step - loss: 0.8771 - accuracy: 0.6949 - val_loss: 0.9512 - val_accuracy: 0.6766\n",
            "Epoch 17/50\n",
            "98/98 [==============================] - 2s 16ms/step - loss: 0.8749 - accuracy: 0.6957 - val_loss: 0.9381 - val_accuracy: 0.6742\n",
            "Epoch 18/50\n",
            "98/98 [==============================] - 2s 16ms/step - loss: 0.8505 - accuracy: 0.7044 - val_loss: 0.9365 - val_accuracy: 0.6751\n",
            "Epoch 19/50\n",
            "98/98 [==============================] - 2s 16ms/step - loss: 0.8459 - accuracy: 0.7081 - val_loss: 0.9607 - val_accuracy: 0.6749\n",
            "Epoch 20/50\n",
            "98/98 [==============================] - 2s 16ms/step - loss: 0.8198 - accuracy: 0.7174 - val_loss: 0.9072 - val_accuracy: 0.6875\n",
            "Epoch 21/50\n",
            "98/98 [==============================] - 2s 16ms/step - loss: 0.7992 - accuracy: 0.7235 - val_loss: 0.9062 - val_accuracy: 0.6843\n",
            "Epoch 22/50\n",
            "98/98 [==============================] - 2s 16ms/step - loss: 0.7855 - accuracy: 0.7279 - val_loss: 0.8989 - val_accuracy: 0.6924\n",
            "Epoch 23/50\n",
            "98/98 [==============================] - 2s 18ms/step - loss: 0.7787 - accuracy: 0.7306 - val_loss: 0.8789 - val_accuracy: 0.6975\n",
            "Epoch 24/50\n",
            "98/98 [==============================] - 2s 17ms/step - loss: 0.7654 - accuracy: 0.7350 - val_loss: 0.8781 - val_accuracy: 0.6999\n",
            "Epoch 25/50\n",
            "98/98 [==============================] - 2s 16ms/step - loss: 0.7490 - accuracy: 0.7424 - val_loss: 0.8720 - val_accuracy: 0.7025\n",
            "Epoch 26/50\n",
            "98/98 [==============================] - 2s 16ms/step - loss: 0.7388 - accuracy: 0.7442 - val_loss: 0.8635 - val_accuracy: 0.7038\n",
            "Epoch 27/50\n",
            "98/98 [==============================] - 2s 16ms/step - loss: 0.7264 - accuracy: 0.7509 - val_loss: 0.8815 - val_accuracy: 0.6997\n",
            "Epoch 28/50\n",
            "98/98 [==============================] - 2s 16ms/step - loss: 0.7120 - accuracy: 0.7552 - val_loss: 0.8513 - val_accuracy: 0.7092\n",
            "Epoch 29/50\n",
            "98/98 [==============================] - 2s 16ms/step - loss: 0.6951 - accuracy: 0.7603 - val_loss: 0.8603 - val_accuracy: 0.7055\n",
            "Epoch 30/50\n",
            "98/98 [==============================] - 2s 16ms/step - loss: 0.6881 - accuracy: 0.7632 - val_loss: 0.8574 - val_accuracy: 0.7102\n",
            "Epoch 31/50\n",
            "98/98 [==============================] - 2s 16ms/step - loss: 0.6740 - accuracy: 0.7682 - val_loss: 0.8583 - val_accuracy: 0.7075\n",
            "Epoch 32/50\n",
            "98/98 [==============================] - 2s 16ms/step - loss: 0.6657 - accuracy: 0.7704 - val_loss: 0.8567 - val_accuracy: 0.7053\n",
            "Epoch 33/50\n",
            "98/98 [==============================] - 2s 16ms/step - loss: 0.6598 - accuracy: 0.7719 - val_loss: 0.8411 - val_accuracy: 0.7123\n",
            "Epoch 34/50\n",
            "98/98 [==============================] - 2s 16ms/step - loss: 0.6551 - accuracy: 0.7733 - val_loss: 0.8489 - val_accuracy: 0.7110\n",
            "Epoch 35/50\n",
            "98/98 [==============================] - 2s 16ms/step - loss: 0.6322 - accuracy: 0.7828 - val_loss: 0.8399 - val_accuracy: 0.7154\n",
            "Epoch 36/50\n",
            "98/98 [==============================] - 2s 17ms/step - loss: 0.6215 - accuracy: 0.7844 - val_loss: 0.8419 - val_accuracy: 0.7139\n",
            "Epoch 37/50\n",
            "98/98 [==============================] - 2s 16ms/step - loss: 0.6122 - accuracy: 0.7890 - val_loss: 0.8647 - val_accuracy: 0.7073\n",
            "Epoch 38/50\n",
            "98/98 [==============================] - 2s 16ms/step - loss: 0.6064 - accuracy: 0.7900 - val_loss: 0.8505 - val_accuracy: 0.7165\n",
            "Epoch 39/50\n",
            "98/98 [==============================] - 2s 16ms/step - loss: 0.5968 - accuracy: 0.7931 - val_loss: 0.8330 - val_accuracy: 0.7221\n",
            "Epoch 40/50\n",
            "98/98 [==============================] - 2s 16ms/step - loss: 0.5830 - accuracy: 0.7978 - val_loss: 0.8328 - val_accuracy: 0.7179\n",
            "Epoch 41/50\n",
            "98/98 [==============================] - 2s 16ms/step - loss: 0.5733 - accuracy: 0.8012 - val_loss: 0.8318 - val_accuracy: 0.7227\n",
            "Epoch 42/50\n",
            "98/98 [==============================] - 2s 16ms/step - loss: 0.5621 - accuracy: 0.8047 - val_loss: 0.8455 - val_accuracy: 0.7169\n",
            "Epoch 43/50\n",
            "98/98 [==============================] - 2s 17ms/step - loss: 0.5517 - accuracy: 0.8105 - val_loss: 0.8468 - val_accuracy: 0.7139\n",
            "Epoch 44/50\n",
            "98/98 [==============================] - 2s 16ms/step - loss: 0.5396 - accuracy: 0.8144 - val_loss: 0.8510 - val_accuracy: 0.7143\n",
            "Epoch 45/50\n",
            "98/98 [==============================] - 2s 16ms/step - loss: 0.5385 - accuracy: 0.8149 - val_loss: 0.8473 - val_accuracy: 0.7216\n",
            "Epoch 46/50\n",
            "98/98 [==============================] - 2s 16ms/step - loss: 0.5393 - accuracy: 0.8130 - val_loss: 0.8384 - val_accuracy: 0.7251\n",
            "Epoch 47/50\n",
            "98/98 [==============================] - 2s 17ms/step - loss: 0.5316 - accuracy: 0.8165 - val_loss: 0.8654 - val_accuracy: 0.7192\n",
            "Epoch 48/50\n",
            "98/98 [==============================] - 2s 16ms/step - loss: 0.5067 - accuracy: 0.8270 - val_loss: 0.8874 - val_accuracy: 0.7127\n",
            "Epoch 49/50\n",
            "98/98 [==============================] - 2s 16ms/step - loss: 0.5075 - accuracy: 0.8259 - val_loss: 0.8997 - val_accuracy: 0.7075\n",
            "Epoch 50/50\n",
            "98/98 [==============================] - 2s 16ms/step - loss: 0.4951 - accuracy: 0.8295 - val_loss: 0.8439 - val_accuracy: 0.7282\n"
          ]
        },
        {
          "output_type": "execute_result",
          "data": {
            "text/plain": [
              "<keras.callbacks.History at 0x7efd5a125950>"
            ]
          },
          "metadata": {},
          "execution_count": 4
        }
      ]
    },
    {
      "cell_type": "code",
      "source": [
        ""
      ],
      "metadata": {
        "id": "ZqcB1uiDLM9t"
      },
      "execution_count": null,
      "outputs": []
    }
  ]
}