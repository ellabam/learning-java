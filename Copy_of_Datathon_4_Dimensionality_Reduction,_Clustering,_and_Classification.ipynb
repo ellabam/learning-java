{
  "cells": [
    {
      "cell_type": "markdown",
      "metadata": {
        "id": "view-in-github",
        "colab_type": "text"
      },
      "source": [
        "<a href=\"https://colab.research.google.com/github/ellabam/learning-java/blob/master/Copy_of_Datathon_4_Dimensionality_Reduction%2C_Clustering%2C_and_Classification.ipynb\" target=\"_parent\"><img src=\"https://colab.research.google.com/assets/colab-badge.svg\" alt=\"Open In Colab\"/></a>"
      ]
    },
    {
      "cell_type": "markdown",
      "metadata": {
        "id": "g1q28bXPNyIZ"
      },
      "source": [
        "# Datathon #4 - Clustering, Dimensionality Reduction, and Classification"
      ]
    },
    {
      "cell_type": "code",
      "execution_count": null,
      "metadata": {
        "id": "atsVcbKvNyIc"
      },
      "outputs": [],
      "source": [
        "import numpy as np\n",
        "import scipy as sp\n",
        "import scipy.spatial.distance as spd\n",
        "import scipy.cluster.hierarchy as sph\n",
        "import sklearn as sk\n",
        "import sklearn.cluster as skc\n",
        "import sklearn.metrics as skm\n",
        "import pandas as pd\n",
        "import matplotlib.pyplot as plt"
      ]
    },
    {
      "cell_type": "code",
      "execution_count": null,
      "metadata": {
        "id": "uOqJTXBYNyIe"
      },
      "outputs": [],
      "source": [
        "%matplotlib inline\n",
        "import seaborn as sns\n",
        "sns.set(style='white', color_codes=True, font_scale=1.3)"
      ]
    },
    {
      "cell_type": "code",
      "source": [
        "# We'll need a newer version of OpenPyXL to load XLSX files into the current version of Pandas\n",
        "%pip install openpyxl==3.0.9"
      ],
      "metadata": {
        "id": "LgGad1d7aymg"
      },
      "execution_count": null,
      "outputs": []
    },
    {
      "cell_type": "markdown",
      "metadata": {
        "id": "0mU-dFkQNyIe"
      },
      "source": [
        "For this datathon we'll be working with data about LEGO construction sets. \n",
        "\n",
        "LEGO data comes from Rebrickable (https://rebrickable.com) via Kaggle (https://www.kaggle.com/rtatman/lego-database).\n",
        "The database contains all data in the Rebrickable database for sets released up to mid-2017 (almost all sets ever). \n",
        "\n",
        "We're giving you two simplified versions of the larger dataset.\n",
        "\n",
        "**(File 1) LEGO Colors** — Contains data on all of the different colors of LEGO pieces ever released. \n",
        "- Unique pieces = How many different kinds of bricks have been produced in the color.\n",
        "- Unique sets = How many different LEGO sets have included bricks in the color.\n",
        "- Unique themes = How many different LEGO themes (\"Town\", \"Space\", \"Ninjago\", \"Harry Potter\", etc.) have included the color.\n",
        "- Number of years = How many years have had sets with the color.\n",
        "- Max set size = How big was the biggest set that includes the color. \n",
        "- Median set size = How big was the median set that includes the color."
      ]
    },
    {
      "cell_type": "code",
      "execution_count": null,
      "metadata": {
        "id": "HJLSD-eFNyIf"
      },
      "outputs": [],
      "source": [
        "lego_colors = pd.read_csv(\"https://drive.google.com/uc?export=download&id=1kDzl7la0-GgnQb-ry6D_S3BmB3mGJk-m\",delimiter=\"\\t\")\n",
        "lego_colors.head(5)"
      ]
    },
    {
      "cell_type": "code",
      "execution_count": null,
      "metadata": {
        "id": "FaiK6DDYNyIg"
      },
      "outputs": [],
      "source": [
        "# A few useful subsets\n",
        "colors = lego_colors[\"Color\"]\n",
        "lego_colors_vals_only = lego_colors.drop([\"Color\"], axis=1)"
      ]
    },
    {
      "cell_type": "code",
      "execution_count": null,
      "metadata": {
        "id": "cEFXEyHUNyIg"
      },
      "outputs": [],
      "source": [
        "_ = pd.plotting.scatter_matrix(lego_colors, figsize=(15,15))"
      ]
    },
    {
      "cell_type": "code",
      "execution_count": null,
      "metadata": {
        "id": "0ihvrOfFNyIh"
      },
      "outputs": [],
      "source": [
        "# A quick plot of all the colors based on number of sets and years\n",
        "plt.figure(figsize=(14,6))\n",
        "plt.scatter(lego_colors[\"Number of Years\"], lego_colors[\"Number of Unique Sets\"])\n",
        "plt.xlabel('Number of Years')\n",
        "plt.ylabel('Number of Unique Sets')\n",
        "\n",
        "for i, row in enumerate(lego_colors.values):\n",
        "    plt.annotate(row[0],xy=(row[4],row[2]),fontsize=10)"
      ]
    },
    {
      "cell_type": "markdown",
      "metadata": {
        "id": "dBVs3E7WNyIi"
      },
      "source": [
        "**(File 2) LEGO Colors by Set** — Contains data on the colors of the pieces in each LEGO set.\n",
        "\n",
        "- Set Num = A unique alphanumeric ID number for each set. \n",
        "- Set Name = The official name of the set (some names are reused for more than one set).\n",
        "- Year = The year the set was released.\n",
        "- Num Parts = Total number of parts listed on the box.\n",
        "- Theme = The theme the set was released under (\"Technic\", \"Ninjago\", \"Star Wars\", \"City\", etc.)\n",
        "- [Colors] = Number of parts of each color in the set, according to the Rebrickable database.\n",
        "\n",
        "You can also get more data about individual sets by going to http://rebrickable.com/sets/{SetNum}"
      ]
    },
    {
      "cell_type": "code",
      "execution_count": null,
      "metadata": {
        "id": "dwdAR9xHNyIi"
      },
      "outputs": [],
      "source": [
        "# Import data, remove NaN\n",
        "lego_colors_by_set_full = pd.read_excel('https://drive.google.com/uc?export=download&id=1EppL5Cy4YSND45x--HV3yKavszTu2ALB')\n",
        "lego_colors_by_set_full.fillna(0, inplace=True)\n",
        "\n",
        "# For this datathon we'll just focus on 10 of the most popular themes.\n",
        "lego_colors_by_set = lego_colors_by_set_full[(lego_colors_by_set_full[\"Theme\"] == \"Technic\") | \n",
        "                        (lego_colors_by_set_full[\"Theme\"] == \"Friends\") |\n",
        "                        (lego_colors_by_set_full[\"Theme\"] == \"City\") |\n",
        "                        (lego_colors_by_set_full[\"Theme\"] == \"Basic Set\") |\n",
        "                        (lego_colors_by_set_full[\"Theme\"] == \"Creator\") |\n",
        "                        (lego_colors_by_set_full[\"Theme\"] == \"Duplo\") |\n",
        "                        (lego_colors_by_set_full[\"Theme\"] == \"Star Wars\") |\n",
        "                        (lego_colors_by_set_full[\"Theme\"] == \"Ninjago\") |\n",
        "                        (lego_colors_by_set_full[\"Theme\"] == \"Construction\") |\n",
        "                        (lego_colors_by_set_full[\"Theme\"] == \"Airport\")]"
      ]
    },
    {
      "cell_type": "code",
      "execution_count": null,
      "metadata": {
        "id": "iNLHW1B3NyIj"
      },
      "outputs": [],
      "source": [
        "lego_colors_by_set.head(3)"
      ]
    },
    {
      "cell_type": "markdown",
      "metadata": {
        "id": "L_7cqzAQNyIk"
      },
      "source": [
        "Some potentially useful refactorings of the data."
      ]
    },
    {
      "cell_type": "code",
      "execution_count": null,
      "metadata": {
        "id": "pnanEDhaNyIk"
      },
      "outputs": [],
      "source": [
        "# Creates a copy of the dataframe where color counts are normalized \n",
        "#  so each gives the % of parts in the set with that color, rather than the total count.\n",
        "lego_colors_by_set_norm = lego_colors_by_set.copy()\n",
        "lego_colors_by_set_norm = lego_colors_by_set_norm.drop([ 'Set Name', 'Set Num', 'Theme', 'Year', 'Num Parts'], axis=1)\n",
        "lego_colors_by_set_norm = lego_colors_by_set_norm.div(lego_colors_by_set_norm.sum(axis=1), axis=0)\n",
        "\n",
        "# A list of all the color name columns\n",
        "color_cols = lego_colors_by_set_norm.columns\n",
        "# A list of all the other numeric columns\n",
        "other_cols = [\"Year\", \"Num Parts\"]\n",
        "\n",
        "# Add back the non-numeric columns to the normalized table\n",
        "lego_colors_by_set_norm[\"Year\"] = lego_colors_by_set[\"Year\"]\n",
        "lego_colors_by_set_norm[\"Set Name\"] = lego_colors_by_set[\"Set Name\"]\n",
        "lego_colors_by_set_norm[\"Set Num\"] = lego_colors_by_set[\"Set Num\"]\n",
        "lego_colors_by_set_norm[\"Theme\"] = lego_colors_by_set[\"Theme\"]\n",
        "lego_colors_by_set_norm[\"Num Parts\"] = lego_colors_by_set[\"Num Parts\"]\n",
        "lego_colors_by_set_norm.head(3)"
      ]
    },
    {
      "cell_type": "code",
      "execution_count": null,
      "metadata": {
        "scrolled": true,
        "id": "tsgGNNtSNyIk"
      },
      "outputs": [],
      "source": [
        "color_cols # The complete list of color columns"
      ]
    },
    {
      "cell_type": "code",
      "execution_count": null,
      "metadata": {
        "id": "Py9fJ9JLNyIl"
      },
      "outputs": [],
      "source": [
        "# A quick plot of all the sets in our reduced dataset by number of parts and year\n",
        "themes = lego_colors_by_set.groupby(\"Theme\")\n",
        "plt.figure(figsize=(14,6))\n",
        "plt.xlabel('Year')\n",
        "plt.ylabel('Number of Parts')\n",
        "\n",
        "for theme, group in themes: # iterate and plot sets by theme for colors\n",
        "    plt.plot(group[\"Year\"], group[\"Num Parts\"], marker=\"o\", linestyle=\"\", label=theme)\n",
        "    for i, row in enumerate(group.values[0::100]): #add labels on every 100th set\n",
        "        plt.annotate(row[1],xy=(row[3],row[4]),fontsize=10)\n",
        "\n",
        "_ = plt.legend()\n",
        "\n"
      ]
    },
    {
      "cell_type": "markdown",
      "metadata": {
        "id": "1DJQNqh9NyIl"
      },
      "source": [
        "Remember that you can always export results to a CSV to examine them elsewhere (for example in Tableau)."
      ]
    },
    {
      "cell_type": "code",
      "execution_count": null,
      "metadata": {
        "id": "aeHmmdD2NyIl"
      },
      "outputs": [],
      "source": [
        "lego_colors_by_set.to_csv(\"lego_dataframe_export.csv\")"
      ]
    },
    {
      "cell_type": "markdown",
      "metadata": {
        "id": "OEDKx1H6NyIm"
      },
      "source": [
        "## Questions\n",
        "\n",
        "***Using File 1 (Lego Colors Data):***\n",
        "1. Use *principle component analysis (PCA)* to find a projection that reveals groups of colors that have similar characteristics. What set of data columns and set of principle components do you think show the clearest result? \n",
        "2. Use *hierarchical clustering* to find groups of colors that have similar characteristics. What set of data columns, distance metric, linkage function, and distance threshold do you think give the best result?\n",
        "3. Use *k-means* clustering to find groups of colors that have similar characteristics. What set of data columns and what value of k do you think gives the best result? \n",
        "\n",
        "***Using File 2 (Set Color Data):***\n",
        "\n",
        "4. Train and test (**a**) a *kNN* classifier and (**b**) a *Naïve Bayes* classifier to predict the theme for new Lego kits based on the data about them.\n",
        "    * For each classifier, report:\n",
        "        * What parameters (if any) you tuned.\n",
        "        * How well it performed. — Report the Accuracy, Precision, Recall, and F1-score. Also render a confusion matrix. (Remember, don’t test on your training data!)\n",
        "        * Your interpretation of the result. Explain what you think the classifier got right/wrong. (Feel free to include visualizations or additional info that helps explain).\n",
        "\n",
        "... + 1 more analysis questions of your own using either File 1 (Lego Colors) or File 2 (Lego Colors by Set) and the tool(s) of your choice."
      ]
    },
    {
      "cell_type": "code",
      "source": [
        ""
      ],
      "metadata": {
        "id": "w_mEZe11Z_x-"
      },
      "execution_count": null,
      "outputs": []
    }
  ],
  "metadata": {
    "anaconda-cloud": {},
    "kernelspec": {
      "display_name": "Python 3",
      "language": "python",
      "name": "python3"
    },
    "language_info": {
      "codemirror_mode": {
        "name": "ipython",
        "version": 3
      },
      "file_extension": ".py",
      "mimetype": "text/x-python",
      "name": "python",
      "nbconvert_exporter": "python",
      "pygments_lexer": "ipython3",
      "version": "3.8.5"
    },
    "colab": {
      "name": "Copy of Datathon 4 - Dimensionality Reduction, Clustering, and Classification.ipynb",
      "provenance": [],
      "collapsed_sections": [
        "OEDKx1H6NyIm",
        "fG8nZH6-NyIm",
        "14VgXaEdNyIo",
        "ndbOa6rmNyIq",
        "KYO77eqvNyIr",
        "0Z-AcTJjNyIr",
        "V6Ds9QlXNyIr",
        "bmqZUGXYNyIs"
      ],
      "include_colab_link": true
    }
  },
  "nbformat": 4,
  "nbformat_minor": 0
}